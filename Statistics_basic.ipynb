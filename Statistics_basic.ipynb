{
  "nbformat": 4,
  "nbformat_minor": 0,
  "metadata": {
    "colab": {
      "provenance": []
    },
    "kernelspec": {
      "name": "python3",
      "display_name": "Python 3"
    },
    "language_info": {
      "name": "python"
    }
  },
  "cells": [
    {
      "cell_type": "markdown",
      "source": [
        "1. What is statistics, and why is it important?\n",
        "   - Statistics is the study of data collection, analysis, interpretation, and presentation. It is important for making informed decisions, identifying patterns, and solving real-world problems in various fields like business, medicine, and engineering.\n",
        "\n",
        "2. What are the two main types of statistics?\n",
        "   - Descriptive Statistics\n",
        "     Inferential Statistics\n",
        "\n",
        "\n",
        "3. What are descriptive statistics?\n",
        "   - Describes and summarizes data using measures like mean, median, mode, range, variance, and standard deviation.\n",
        "\n",
        "4. What is inferential statistics?\n",
        "   - Uses sample data to make conclusions about a population through hypothesis testing, confidence intervals, and regression analysis.\n",
        "\n",
        "5. What is sampling in statistics?\n",
        "   -Sampling involves selecting a subset of data from a larger population to analyze and draw conclusions.\n",
        "\n",
        "6. What are the different types of sampling methods?\n",
        "    - Random Sampling – Every individual has an equal chance of selection.\n",
        "Stratified Sampling – Population divided into subgroups; samples taken from each.\n",
        "Cluster Sampling – Population divided into clusters; entire clusters are sampled.\n",
        "Systematic Sampling – Every nth item is selected.\n",
        "Convenience Sampling – Samples are chosen based on ease of access.\n",
        "\n",
        "7. What is the difference between random and non-random sampling?\n",
        "     - Random Sampling: Every individual has an equal chance (e.g., lottery draw).\n",
        "Non-Random Sampling: Selection is based on judgment or convenience (e.g., volunteer sampling).\n",
        "\n",
        "8.  Define and give examples of qualitative and quantitative data?\n",
        "    - Qualitative Data: Descriptive, non-numerical (e.g., colors, names).\n",
        "Quantitative Data: Numerical (e.g., height, weight)\n",
        "\n",
        "9. What are the different types of data in statistics?\n",
        "    - Nominal – Categorical, no order (e.g., colors, gender).\n",
        "      Ordinal – Ordered categories (e.g., rankings, satisfaction levels).\n",
        "      Interval – Ordered, no true zero (e.g., temperature in Celsius).\n",
        "      Ratio – Ordered, with a true zero (e.g., weight, height).\n",
        "\n",
        "10.  Explain nominal, ordinal, interval, and ratio levels of measurement?\n",
        "     -  Nominal – Categorical, no order (e.g., colors, gender).\n",
        "      Ordinal – Ordered categories (e.g., rankings, satisfaction levels).\n",
        "      Interval – Ordered, no true zero (e.g., temperature in Celsius).\n",
        "      Ratio – Ordered, with a true zero (e.g., weight, height).\n",
        "\n",
        "11. What is the measure of central tendency?\n",
        "     - Indicates the center of a dataset (Mean, Median, Mode).\n",
        "\n",
        "12.  Define mean, median, and mode?\n",
        "     - Mean – Average of all values.\n",
        "Median – Middle value when sorted.\n",
        "Mode – Most frequently occurring value.\n",
        "\n",
        "13. What is the significance of the measure of central tendency?\n",
        "    - Helps summarize data and provide insights into the overall trend.\n",
        "\n",
        "14. What is variance, and how is it calculated?\n",
        "     - Variance measures the spread of data. It is calculated as the average of squared deviations from the mean.\n",
        "\n",
        "15.  What is standard deviation, and why is it important?\n",
        "      - Measures data dispersion; a lower value means data points are closer to the mean, while a higher value indicates more variability.\n",
        "\n",
        "16. Define and explain the term range in statistics?\n",
        "     - Difference between the highest and lowest values in a dataset.\n",
        "\n",
        "17. What is the difference between variance and standard deviation?\n",
        "     - Variance – Measures spread using squared deviations.\n",
        "Standard Deviation – Square root of variance; easier to interpret.\n",
        "\n",
        "18. What is skewness in a dataset?\n",
        "    - Describes the symmetry of data distribution.\n",
        "\n",
        "19.  What does it mean if a dataset is positively or negatively skewed?\n",
        "    - Positive Skew: Right tail is longer; mean > median.\n",
        "Negative Skew: Left tail is longer; mean < median.\n",
        "\n",
        "20. Define and explain kurtosis?\n",
        "    - Measures the sharpness of a data distribution’s peak.\n",
        "      High Kurtosis – Peaked distribution.\n",
        "      Low Kurtosis – Flatter distribution.\n",
        "\n",
        "21. What is the purpose of covariance?\n",
        "     - Measures the relationship between two variables (whether they move together).\n",
        "\n",
        "22. What does correlation measure in statistics?\n",
        "      - Quantifies the strength and direction of a relationship between two variables (ranges from -1 to +1).\n",
        "\n",
        "23.  What is the difference between covariance and correlation?\n",
        "       - Covariance – Shows direction of relationship but not strength.\n",
        "         Correlation – Standardized version of covariance; easier to interpret.\n",
        "\n",
        "24. What are some real-world applications of statistics?\n",
        "      - Healthcare – Disease prediction, clinical trials.\n",
        "        Finance – Risk analysis, stock market predictions.\n",
        "        Marketing – Customer behavior analysis.\n",
        "        Sports – Performance analysis.\n",
        "        Machine Learning – Data modeling and predictions.  \n"
      ],
      "metadata": {
        "id": "m3GcPLNQ7pvp"
      }
    },
    {
      "cell_type": "code",
      "execution_count": 3,
      "metadata": {
        "colab": {
          "base_uri": "https://localhost:8080/"
        },
        "id": "uhBklNpF7dLR",
        "outputId": "43a26322-e92c-409d-ad60-f51f505f4e34"
      },
      "outputs": [
        {
          "output_type": "stream",
          "name": "stdout",
          "text": [
            "23.571428571428573 25.0 ModeResult(mode=np.int64(30), count=np.int64(2))\n"
          ]
        }
      ],
      "source": [
        "# ans1\n",
        "import numpy as np\n",
        "from scipy import stats\n",
        "\n",
        "data = [10, 15, 20, 25, 30, 30, 35]\n",
        "mean = np.mean(data)\n",
        "median = np.median(data)\n",
        "mode = stats.mode(data)\n",
        "\n",
        "print(mean, median, mode)\n"
      ]
    },
    {
      "cell_type": "code",
      "source": [
        "#ans2\n",
        "variance = np.var(data, ddof=1)\n",
        "std_dev = np.std(data, ddof=1)\n",
        "print(variance, std_dev)\n"
      ],
      "metadata": {
        "colab": {
          "base_uri": "https://localhost:8080/"
        },
        "id": "y0EaGF9NATcV",
        "outputId": "035a63b2-19ed-4cec-8640-2bc9d255022b"
      },
      "execution_count": 2,
      "outputs": [
        {
          "output_type": "stream",
          "name": "stdout",
          "text": [
            "80.95238095238095 8.997354108424373\n"
          ]
        }
      ]
    },
    {
      "cell_type": "code",
      "source": [
        "#ans4\n",
        "import numpy as np\n",
        "from sklearn.model_selection import train_test_split\n",
        "\n",
        "data = np.arange(1, 101)\n",
        "random_sample = np.random.choice(data, 10, replace=False)\n",
        "\n",
        "from sklearn.model_selection import StratifiedShuffleSplit\n",
        "labels = np.array([1 if x > 50 else 0 for x in data])\n",
        "sss = StratifiedShuffleSplit(n_splits=1, test_size=0.1)\n",
        "for train_index, test_index in sss.split(data, labels):\n",
        "    stratified_sample = data[test_index]\n",
        "\n"
      ],
      "metadata": {
        "id": "cfqEv8VcAYLA"
      },
      "execution_count": 4,
      "outputs": []
    },
    {
      "cell_type": "code",
      "source": [
        "#ans5\n",
        "def calc_range(data):\n",
        "    return max(data) - min(data)\n"
      ],
      "metadata": {
        "id": "JFzk1ozpAoQJ"
      },
      "execution_count": 5,
      "outputs": []
    },
    {
      "cell_type": "code",
      "source": [
        "#ans6\n",
        "import matplotlib.pyplot as plt\n",
        "plt.hist(data, bins=10)\n",
        "plt.show()\n"
      ],
      "metadata": {
        "colab": {
          "base_uri": "https://localhost:8080/",
          "height": 430
        },
        "id": "8kjhXQvPAvtq",
        "outputId": "184ad682-e4ad-4046-f2ee-7b5852f37b0b"
      },
      "execution_count": 6,
      "outputs": [
        {
          "output_type": "display_data",
          "data": {
            "text/plain": [
              "<Figure size 640x480 with 1 Axes>"
            ],
            "image/png": "[encoded data removed]"
          },
          "metadata": {}
        }
      ]
    },
    {
      "cell_type": "code",
      "source": [
        "#ans7\n",
        "from scipy.stats import skew, kurtosis\n",
        "print(skew(data), kurtosis(data))\n"
      ],
      "metadata": {
        "colab": {
          "base_uri": "https://localhost:8080/"
        },
        "id": "SmtvEAVGAyXY",
        "outputId": "eb2d83c8-193a-46df-cf62-214f93349a28"
      },
      "execution_count": 7,
      "outputs": [
        {
          "output_type": "stream",
          "name": "stdout",
          "text": [
            "0.0 -1.2002400240024003\n"
          ]
        }
      ]
    },
    {
      "cell_type": "code",
      "source": [
        "#ans8\n",
        "pos_skew = np.random.exponential(scale=2, size=1000)\n",
        "neg_skew = np.random.exponential(scale=-2, size=1000)\n"
      ],
      "metadata": {
        "collapsed": true,
        "id": "yU4fZ-veA4Bq"
      },
      "execution_count": 25,
      "outputs": []
    },
    {
      "cell_type": "code",
      "source": [
        "#ans9\n",
        "x = np.random.rand(10)\n",
        "y = np.random.rand(10)\n",
        "cov_matrix = np.cov(x, y)\n",
        "print(cov_matrix[0, 1])\n"
      ],
      "metadata": {
        "colab": {
          "base_uri": "https://localhost:8080/"
        },
        "id": "fkbX0-QmA7qG",
        "outputId": "1116cbbc-e2c3-4b69-bd01-6d24c77346af"
      },
      "execution_count": 9,
      "outputs": [
        {
          "output_type": "stream",
          "name": "stdout",
          "text": [
            "-0.00045360128268704964\n"
          ]
        }
      ]
    },
    {
      "cell_type": "code",
      "source": [
        "#ans10\n",
        "corr = np.corrcoef(x, y)[0, 1]\n",
        "print(corr)\n"
      ],
      "metadata": {
        "colab": {
          "base_uri": "https://localhost:8080/"
        },
        "id": "9tiqcYdnBEe3",
        "outputId": "fe404c09-951c-49f8-83eb-85509ac05188"
      },
      "execution_count": 10,
      "outputs": [
        {
          "output_type": "stream",
          "name": "stdout",
          "text": [
            "-0.005759552209228744\n"
          ]
        }
      ]
    },
    {
      "cell_type": "code",
      "source": [
        "#ans11\n",
        "plt.scatter(x, y)\n",
        "plt.show()\n"
      ],
      "metadata": {
        "colab": {
          "base_uri": "https://localhost:8080/",
          "height": 433
        },
        "id": "28B0BFWzBHB1",
        "outputId": "b8001bd2-b115-46ad-8bd9-993b140190ad"
      },
      "execution_count": 11,
      "outputs": [
        {
          "output_type": "display_data",
          "data": {
            "text/plain": [
              "<Figure size 640x480 with 1 Axes>"
            ],
            "image/png": "[encoded data removed]"
          },
          "metadata": {}
        }
      ]
    },
    {
      "cell_type": "code",
      "source": [
        "#ans12\n",
        "systematic_sample = data[::10]\n"
      ],
      "metadata": {
        "id": "0fIycy51BJDb"
      },
      "execution_count": 12,
      "outputs": []
    },
    {
      "cell_type": "code",
      "source": [
        "#ans13\n",
        "import pandas as pd\n",
        "df = pd.DataFrame({'Data': data})\n",
        "print(df.mean(), df.median(), df.mode())\n"
      ],
      "metadata": {
        "colab": {
          "base_uri": "https://localhost:8080/"
        },
        "id": "-HvAkQ0zBLkp",
        "outputId": "67e1cdf9-4e30-4e6e-d688-85db29d30b6b"
      },
      "execution_count": 13,
      "outputs": [
        {
          "output_type": "stream",
          "name": "stdout",
          "text": [
            "Data    50.5\n",
            "dtype: float64 Data    50.5\n",
            "dtype: float64     Data\n",
            "0      1\n",
            "1      2\n",
            "2      3\n",
            "3      4\n",
            "4      5\n",
            "..   ...\n",
            "95    96\n",
            "96    97\n",
            "97    98\n",
            "98    99\n",
            "99   100\n",
            "\n",
            "[100 rows x 1 columns]\n"
          ]
        }
      ]
    },
    {
      "cell_type": "code",
      "source": [
        "#ans14\n",
        "sim_data = np.random.normal(50, 10, 1000)\n",
        "print(np.mean(sim_data), np.median(sim_data), np.std(sim_data))\n"
      ],
      "metadata": {
        "colab": {
          "base_uri": "https://localhost:8080/"
        },
        "id": "zL-N2rzOBSt5",
        "outputId": "e02f0ea3-cd16-4ed3-aea2-760698a179ad"
      },
      "execution_count": 14,
      "outputs": [
        {
          "output_type": "stream",
          "name": "stdout",
          "text": [
            "50.47185895914827 50.114622391624316 9.951843501188248\n"
          ]
        }
      ]
    },
    {
      "cell_type": "code",
      "source": [
        "#ans15\n",
        "df.describe()\n"
      ],
      "metadata": {
        "colab": {
          "base_uri": "https://localhost:8080/",
          "height": 300
        },
        "id": "JoMd887YBaBM",
        "outputId": "b303ea39-ed62-4eec-d24f-855b6424c666"
      },
      "execution_count": 15,
      "outputs": [
        {
          "output_type": "execute_result",
          "data": {
            "text/plain": [
              "             Data\n",
              "count  100.000000\n",
              "mean    50.500000\n",
              "std     29.011492\n",
              "min      1.000000\n",
              "25%     25.750000\n",
              "50%     50.500000\n",
              "75%     75.250000\n",
              "max    100.000000"
            ],
            "text/html": [
              "\n",
              "  <div id=\"df-50e37529-3a63-474f-9815-a1cd0235dcc9\" class=\"colab-df-container\">\n",
              "    <div>\n",
              "<style scoped>\n",
              "    .dataframe tbody tr th:only-of-type {\n",
              "        vertical-align: middle;\n",
              "    }\n",
              "\n",
              "    .dataframe tbody tr th {\n",
              "        vertical-align: top;\n",
              "    }\n",
              "\n",
              "    .dataframe thead th {\n",
              "        text-align: right;\n",
              "    }\n",
              "</style>\n",
              "<table border=\"1\" class=\"dataframe\">\n",
              "  <thead>\n",
              "    <tr style=\"text-align: right;\">\n",
              "      <th></th>\n",
              "      <th>Data</th>\n",
              "    </tr>\n",
              "  </thead>\n",
              "  <tbody>\n",
              "    <tr>\n",
              "      <th>count</th>\n",
              "      <td>100.000000</td>\n",
              "    </tr>\n",
              "    <tr>\n",
              "      <th>mean</th>\n",
              "      <td>50.500000</td>\n",
              "    </tr>\n",
              "    <tr>\n",
              "      <th>std</th>\n",
              "      <td>29.011492</td>\n",
              "    </tr>\n",
              "    <tr>\n",
              "      <th>min</th>\n",
              "      <td>1.000000</td>\n",
              "    </tr>\n",
              "    <tr>\n",
              "      <th>25%</th>\n",
              "      <td>25.750000</td>\n",
              "    </tr>\n",
              "    <tr>\n",
              "      <th>50%</th>\n",
              "      <td>50.500000</td>\n",
              "    </tr>\n",
              "    <tr>\n",
              "      <th>75%</th>\n",
              "      <td>75.250000</td>\n",
              "    </tr>\n",
              "    <tr>\n",
              "      <th>max</th>\n",
              "      <td>100.000000</td>\n",
              "    </tr>\n",
              "  </tbody>\n",
              "</table>\n",
              "</div>\n",
              "    <div class=\"colab-df-buttons\">\n",
              "\n",
              "  <div class=\"colab-df-container\">\n",
              "    <button class=\"colab-df-convert\" onclick=\"convertToInteractive('df-50e37529-3a63-474f-9815-a1cd0235dcc9')\"\n",
              "            title=\"Convert this dataframe to an interactive table.\"\n",
              "            style=\"display:none;\">\n",
              "\n",
              "  <svg xmlns=\"http://www.w3.org/2000/svg\" height=\"24px\" viewBox=\"0 -960 960 960\">\n",
              "    <path d=\"M120-120v-720h720v720H120Zm60-500h600v-160H180v160Zm220 220h160v-160H400v160Zm0 220h160v-160H400v160ZM180-400h160v-160H180v160Zm440 0h160v-160H620v160ZM180-180h160v-160H180v160Zm440 0h160v-160H620v160Z\"/>\n",
              "  </svg>\n",
              "    </button>\n",
              "\n",
              "  <style>\n",
              "    .colab-df-container {\n",
              "      display:flex;\n",
              "      gap: 12px;\n",
              "    }\n",
              "\n",
              "    .colab-df-convert {\n",
              "      background-color: #E8F0FE;\n",
              "      border: none;\n",
              "      border-radius: 50%;\n",
              "      cursor: pointer;\n",
              "      display: none;\n",
              "      fill: #1967D2;\n",
              "      height: 32px;\n",
              "      padding: 0 0 0 0;\n",
              "      width: 32px;\n",
              "    }\n",
              "\n",
              "    .colab-df-convert:hover {\n",
              "      background-color: #E2EBFA;\n",
              "      box-shadow: 0px 1px 2px rgba(60, 64, 67, 0.3), 0px 1px 3px 1px rgba(60, 64, 67, 0.15);\n",
              "      fill: #174EA6;\n",
              "    }\n",
              "\n",
              "    .colab-df-buttons div {\n",
              "      margin-bottom: 4px;\n",
              "    }\n",
              "\n",
              "    [theme=dark] .colab-df-convert {\n",
              "      background-color: #3B4455;\n",
              "      fill: #D2E3FC;\n",
              "    }\n",
              "\n",
              "    [theme=dark] .colab-df-convert:hover {\n",
              "      background-color: #434B5C;\n",
              "      box-shadow: 0px 1px 3px 1px rgba(0, 0, 0, 0.15);\n",
              "      filter: drop-shadow(0px 1px 2px rgba(0, 0, 0, 0.3));\n",
              "      fill: #FFFFFF;\n",
              "    }\n",
              "  </style>\n",
              "\n",
              "    <script>\n",
              "      const buttonEl =\n",
              "        document.querySelector('#df-50e37529-3a63-474f-9815-a1cd0235dcc9 button.colab-df-convert');\n",
              "      buttonEl.style.display =\n",
              "        google.colab.kernel.accessAllowed ? 'block' : 'none';\n",
              "\n",
              "      async function convertToInteractive(key) {\n",
              "        const element = document.querySelector('#df-50e37529-3a63-474f-9815-a1cd0235dcc9');\n",
              "        const dataTable =\n",
              "          await google.colab.kernel.invokeFunction('convertToInteractive',\n",
              "                                                    [key], {});\n",
              "        if (!dataTable) return;\n",
              "\n",
              "        const docLinkHtml = 'Like what you see? Visit the ' +\n",
              "          '<a target=\"_blank\" href=https://colab.research.google.com/notebooks/data_table.ipynb>data table notebook</a>'\n",
              "          + ' to learn more about interactive tables.';\n",
              "        element.innerHTML = '';\n",
              "        dataTable['output_type'] = 'display_data';\n",
              "        await google.colab.output.renderOutput(dataTable, element);\n",
              "        const docLink = document.createElement('div');\n",
              "        docLink.innerHTML = docLinkHtml;\n",
              "        element.appendChild(docLink);\n",
              "      }\n",
              "    </script>\n",
              "  </div>\n",
              "\n",
              "\n",
              "<div id=\"df-43ab8c7f-2c72-414b-b077-9eec6737f3b7\">\n",
              "  <button class=\"colab-df-quickchart\" onclick=\"quickchart('df-43ab8c7f-2c72-414b-b077-9eec6737f3b7')\"\n",
              "            title=\"Suggest charts\"\n",
              "            style=\"display:none;\">\n",
              "\n",
              "<svg xmlns=\"http://www.w3.org/2000/svg\" height=\"24px\"viewBox=\"0 0 24 24\"\n",
              "     width=\"24px\">\n",
              "    <g>\n",
              "        <path d=\"M19 3H5c-1.1 0-2 .9-2 2v14c0 1.1.9 2 2 2h14c1.1 0 2-.9 2-2V5c0-1.1-.9-2-2-2zM9 17H7v-7h2v7zm4 0h-2V7h2v10zm4 0h-2v-4h2v4z\"/>\n",
              "    </g>\n",
              "</svg>\n",
              "  </button>\n",
              "\n",
              "<style>\n",
              "  .colab-df-quickchart {\n",
              "      --bg-color: #E8F0FE;\n",
              "      --fill-color: #1967D2;\n",
              "      --hover-bg-color: #E2EBFA;\n",
              "      --hover-fill-color: #174EA6;\n",
              "      --disabled-fill-color: #AAA;\n",
              "      --disabled-bg-color: #DDD;\n",
              "  }\n",
              "\n",
              "  [theme=dark] .colab-df-quickchart {\n",
              "      --bg-color: #3B4455;\n",
              "      --fill-color: #D2E3FC;\n",
              "      --hover-bg-color: #434B5C;\n",
              "      --hover-fill-color: #FFFFFF;\n",
              "      --disabled-bg-color: #3B4455;\n",
              "      --disabled-fill-color: #666;\n",
              "  }\n",
              "\n",
              "  .colab-df-quickchart {\n",
              "    background-color: var(--bg-color);\n",
              "    border: none;\n",
              "    border-radius: 50%;\n",
              "    cursor: pointer;\n",
              "    display: none;\n",
              "    fill: var(--fill-color);\n",
              "    height: 32px;\n",
              "    padding: 0;\n",
              "    width: 32px;\n",
              "  }\n",
              "\n",
              "  .colab-df-quickchart:hover {\n",
              "    background-color: var(--hover-bg-color);\n",
              "    box-shadow: 0 1px 2px rgba(60, 64, 67, 0.3), 0 1px 3px 1px rgba(60, 64, 67, 0.15);\n",
              "    fill: var(--button-hover-fill-color);\n",
              "  }\n",
              "\n",
              "  .colab-df-quickchart-complete:disabled,\n",
              "  .colab-df-quickchart-complete:disabled:hover {\n",
              "    background-color: var(--disabled-bg-color);\n",
              "    fill: var(--disabled-fill-color);\n",
              "    box-shadow: none;\n",
              "  }\n",
              "\n",
              "  .colab-df-spinner {\n",
              "    border: 2px solid var(--fill-color);\n",
              "    border-color: transparent;\n",
              "    border-bottom-color: var(--fill-color);\n",
              "    animation:\n",
              "      spin 1s steps(1) infinite;\n",
              "  }\n",
              "\n",
              "  @keyframes spin {\n",
              "    0% {\n",
              "      border-color: transparent;\n",
              "      border-bottom-color: var(--fill-color);\n",
              "      border-left-color: var(--fill-color);\n",
              "    }\n",
              "    20% {\n",
              "      border-color: transparent;\n",
              "      border-left-color: var(--fill-color);\n",
              "      border-top-color: var(--fill-color);\n",
              "    }\n",
              "    30% {\n",
              "      border-color: transparent;\n",
              "      border-left-color: var(--fill-color);\n",
              "      border-top-color: var(--fill-color);\n",
              "      border-right-color: var(--fill-color);\n",
              "    }\n",
              "    40% {\n",
              "      border-color: transparent;\n",
              "      border-right-color: var(--fill-color);\n",
              "      border-top-color: var(--fill-color);\n",
              "    }\n",
              "    60% {\n",
              "      border-color: transparent;\n",
              "      border-right-color: var(--fill-color);\n",
              "    }\n",
              "    80% {\n",
              "      border-color: transparent;\n",
              "      border-right-color: var(--fill-color);\n",
              "      border-bottom-color: var(--fill-color);\n",
              "    }\n",
              "    90% {\n",
              "      border-color: transparent;\n",
              "      border-bottom-color: var(--fill-color);\n",
              "    }\n",
              "  }\n",
              "</style>\n",
              "\n",
              "  <script>\n",
              "    async function quickchart(key) {\n",
              "      const quickchartButtonEl =\n",
              "        document.querySelector('#' + key + ' button');\n",
              "      quickchartButtonEl.disabled = true;  // To prevent multiple clicks.\n",
              "      quickchartButtonEl.classList.add('colab-df-spinner');\n",
              "      try {\n",
              "        const charts = await google.colab.kernel.invokeFunction(\n",
              "            'suggestCharts', [key], {});\n",
              "      } catch (error) {\n",
              "        console.error('Error during call to suggestCharts:', error);\n",
              "      }\n",
              "      quickchartButtonEl.classList.remove('colab-df-spinner');\n",
              "      quickchartButtonEl.classList.add('colab-df-quickchart-complete');\n",
              "    }\n",
              "    (() => {\n",
              "      let quickchartButtonEl =\n",
              "        document.querySelector('#df-43ab8c7f-2c72-414b-b077-9eec6737f3b7 button');\n",
              "      quickchartButtonEl.style.display =\n",
              "        google.colab.kernel.accessAllowed ? 'block' : 'none';\n",
              "    })();\n",
              "  </script>\n",
              "</div>\n",
              "\n",
              "    </div>\n",
              "  </div>\n"
            ],
            "application/vnd.google.colaboratory.intrinsic+json": {
              "type": "dataframe",
              "summary": "{\n  \"name\": \"df\",\n  \"rows\": 8,\n  \"fields\": [\n    {\n      \"column\": \"Data\",\n      \"properties\": {\n        \"dtype\": \"number\",\n        \"std\": 35.736237144555226,\n        \"min\": 1.0,\n        \"max\": 100.0,\n        \"num_unique_values\": 6,\n        \"samples\": [\n          100.0,\n          50.5,\n          75.25\n        ],\n        \"semantic_type\": \"\",\n        \"description\": \"\"\n      }\n    }\n  ]\n}"
            }
          },
          "metadata": {},
          "execution_count": 15
        }
      ]
    },
    {
      "cell_type": "code",
      "source": [
        "#ans16\n",
        "import seaborn as sns\n",
        "sns.boxplot(x=data)\n",
        "plt.show()\n"
      ],
      "metadata": {
        "colab": {
          "base_uri": "https://localhost:8080/",
          "height": 430
        },
        "id": "N8i96z-8BcPU",
        "outputId": "8f38f611-f64a-4731-85f6-b3e26e6dc9e0"
      },
      "execution_count": 16,
      "outputs": [
        {
          "output_type": "display_data",
          "data": {
            "text/plain": [
              "<Figure size 640x480 with 1 Axes>"
            ],
            "image/png": "[encoded data removed]"
          },
          "metadata": {}
        }
      ]
    },
    {
      "cell_type": "code",
      "source": [
        "#ans17\n",
        "Q1, Q3 = np.percentile(data, [25, 75])\n",
        "IQR = Q3 - Q1\n",
        "print(IQR)\n"
      ],
      "metadata": {
        "colab": {
          "base_uri": "https://localhost:8080/"
        },
        "id": "psSyOuOjBfqY",
        "outputId": "951a7fa5-47de-4667-b65c-f451abe86039"
      },
      "execution_count": 17,
      "outputs": [
        {
          "output_type": "stream",
          "name": "stdout",
          "text": [
            "49.5\n"
          ]
        }
      ]
    },
    {
      "cell_type": "code",
      "source": [
        "#ans18\n",
        "from scipy.stats import zscore\n",
        "z_data = zscore(data)\n"
      ],
      "metadata": {
        "id": "2ACyIw9EBnb6"
      },
      "execution_count": 18,
      "outputs": []
    },
    {
      "cell_type": "code",
      "source": [
        "#ans19\n",
        "data1 = np.random.normal(50, 5, 100)\n",
        "data2 = np.random.normal(50, 15, 100)\n",
        "print(np.std(data1), np.std(data2))\n"
      ],
      "metadata": {
        "colab": {
          "base_uri": "https://localhost:8080/"
        },
        "id": "Zfo8M0eIBpjN",
        "outputId": "0147b28d-193b-42e0-c49a-ca91176905fa"
      },
      "execution_count": 19,
      "outputs": [
        {
          "output_type": "stream",
          "name": "stdout",
          "text": [
            "4.540509402158321 13.868972610181226\n"
          ]
        }
      ]
    },
    {
      "cell_type": "code",
      "source": [
        "#ans20\n",
        "import seaborn as sns\n",
        "sns.heatmap(np.cov(data1, data2), annot=True)\n",
        "plt.show()\n"
      ],
      "metadata": {
        "colab": {
          "base_uri": "https://localhost:8080/",
          "height": 430
        },
        "id": "7--Vsy55Bry2",
        "outputId": "8f12f065-50db-4b39-a9ba-7606634ec2ad"
      },
      "execution_count": 20,
      "outputs": [
        {
          "output_type": "display_data",
          "data": {
            "text/plain": [
              "<Figure size 640x480 with 2 Axes>"
            ],
            "image/png": "[encoded data removed]"
          },
          "metadata": {}
        }
      ]
    },
    {
      "cell_type": "code",
      "source": [
        "#ans21\n",
        "df = pd.DataFrame({'X': x, 'Y': y})\n",
        "sns.heatmap(df.corr(), annot=True)\n",
        "plt.show()\n"
      ],
      "metadata": {
        "colab": {
          "base_uri": "https://localhost:8080/",
          "height": 435
        },
        "id": "M3SgwMYsBvDr",
        "outputId": "9be7af5a-a7d1-4a75-87f9-f5868bab7664"
      },
      "execution_count": 21,
      "outputs": [
        {
          "output_type": "display_data",
          "data": {
            "text/plain": [
              "<Figure size 640x480 with 2 Axes>"
            ],
            "image/png": "[encoded data removed]"
          },
          "metadata": {}
        }
      ]
    },
    {
      "cell_type": "code",
      "source": [
        "#ans22\n",
        "print(np.var(data), np.std(data))\n"
      ],
      "metadata": {
        "colab": {
          "base_uri": "https://localhost:8080/"
        },
        "id": "beTISvGZBxxl",
        "outputId": "8e6737f7-8e24-4877-a994-dbce427c7635"
      },
      "execution_count": 22,
      "outputs": [
        {
          "output_type": "stream",
          "name": "stdout",
          "text": [
            "833.25 28.86607004772212\n"
          ]
        }
      ]
    },
    {
      "cell_type": "code",
      "source": [
        "#ans23\n",
        "sns.histplot(data, kde=True)\n"
      ],
      "metadata": {
        "colab": {
          "base_uri": "https://localhost:8080/",
          "height": 447
        },
        "id": "_Yy3KiSaB2NO",
        "outputId": "99bce95b-1bb1-4c17-fb89-c0356dffefca"
      },
      "execution_count": 23,
      "outputs": [
        {
          "output_type": "execute_result",
          "data": {
            "text/plain": [
              "<Axes: ylabel='Count'>"
            ]
          },
          "metadata": {},
          "execution_count": 23
        },
        {
          "output_type": "display_data",
          "data": {
            "text/plain": [
              "<Figure size 640x480 with 1 Axes>"
            ],
            "image/png": "[encoded data removed]"
          },
          "metadata": {}
        }
      ]
    },
    {
      "cell_type": "code",
      "source": [
        "#ans24\n",
        "from scipy.stats import pearsonr, spearmanr\n",
        "print(pearsonr(x, y), spearmanr(x, y))\n"
      ],
      "metadata": {
        "colab": {
          "base_uri": "https://localhost:8080/"
        },
        "id": "BVmPLJEhB4rl",
        "outputId": "31f204e5-0057-4d55-c21d-a49c6032322e"
      },
      "execution_count": 24,
      "outputs": [
        {
          "output_type": "stream",
          "name": "stdout",
          "text": [
            "PearsonRResult(statistic=np.float64(-0.005759552209228733), pvalue=np.float64(0.9874013974742649)) SignificanceResult(statistic=np.float64(0.01818181818181818), pvalue=np.float64(0.9602404181286243))\n"
          ]
        }
      ]
    },
    {
      "cell_type": "code",
      "source": [],
      "metadata": {
        "id": "CUKytcdtB8zX"
      },
      "execution_count": null,
      "outputs": []
    }
  ]
}